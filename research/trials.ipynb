{
 "cells": [
  {
   "cell_type": "code",
   "execution_count": null,
   "id": "7bcb7f19",
   "metadata": {},
   "outputs": [],
   "source": [
    "import gdown"
   ]
  },
  {
   "cell_type": "code",
   "execution_count": null,
   "id": "63defc6e",
   "metadata": {},
   "outputs": [],
   "source": [
    "url=\"https://drive.google.com/file/d/1IkZACKBbVKydhzbYGcRUbsoEvpcumRub/view?usp=sharing\""
   ]
  },
  {
   "cell_type": "code",
   "execution_count": null,
   "id": "2beb9ea2",
   "metadata": {},
   "outputs": [],
   "source": [
    "# pip install pillow\n",
    "# pip install scipy"
   ]
  },
  {
   "cell_type": "code",
   "execution_count": null,
   "id": "1fda84ff",
   "metadata": {},
   "outputs": [],
   "source": [
    "# import dagshub\n",
    "# dagshub.init(repo_owner='dkdranzer', repo_name='Kidney_Disease_Classification_Deep_learning', mlflow=True)\n",
    "\n",
    "# import mlflow\n",
    "# with mlflow.start_run():\n",
    "#   mlflow.log_param('parameter name', 'value')\n",
    "#   mlflow.log_metric('metric name', 1)"
   ]
  },
  {
   "cell_type": "code",
   "execution_count": null,
   "id": "fb0dc222",
   "metadata": {},
   "outputs": [
    {
     "ename": "",
     "evalue": "",
     "output_type": "error",
     "traceback": [
      "\u001b[1;31mRunning cells with 'kidney (Python 3.8.20)' requires the ipykernel package.\n",
      "\u001b[1;31m<a href='command:jupyter.createPythonEnvAndSelectController'>Create a Python Environment</a> with the required packages.\n",
      "\u001b[1;31mOr install 'ipykernel' using the command: 'conda install -n kidney ipykernel --update-deps --force-reinstall'"
     ]
    }
   ],
   "source": [
    "#  export MLFLOW_TRACKING_USERNAME=dkdranzer "
   ]
  },
  {
   "cell_type": "code",
   "execution_count": null,
   "id": "47bccf3e",
   "metadata": {},
   "outputs": [],
   "source": [
    "# export MLFLOW_TRACKING_PASSWORD=779c763fd2d041ad83b0afc0bb87a5b0fb8f7c7d"
   ]
  },
  {
   "cell_type": "code",
   "execution_count": null,
   "id": "8b6a9ab6",
   "metadata": {},
   "outputs": [],
   "source": [
    "# os.environ[\"MLFLOW_TRACKING_URI\"]=\"https://dagshub.com/dkdranzer/Kidney_Disease_Classification_Deep_learning.mlflow\"\n",
    "# os.environ[\"MLFLOW_TRACKING_USERNAME\"]=\"dkdranzer\""
   ]
  },
  {
   "cell_type": "code",
   "execution_count": null,
   "id": "3e8acdce",
   "metadata": {},
   "outputs": [],
   "source": [
    "# export MLFLOW_TRACKING_URI=https://dagshub.com/dkdranzer/Kidney_Disease_Classification_Deep_learning.mlflow"
   ]
  }
 ],
 "metadata": {
  "kernelspec": {
   "display_name": "kidney",
   "language": "python",
   "name": "python3"
  },
  "language_info": {
   "name": "python",
   "version": "3.8.20"
  }
 },
 "nbformat": 4,
 "nbformat_minor": 5
}
